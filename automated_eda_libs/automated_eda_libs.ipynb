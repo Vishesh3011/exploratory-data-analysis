{
 "cells": [
  {
   "cell_type": "markdown",
   "id": "72b8bca4",
   "metadata": {},
   "source": [
    "# Automted EDA Libraries\n",
    "This is a notebook for testing out automated eda libraries like Dtale, Pandas-Profiling, and SweetViz"
   ]
  },
  {
   "cell_type": "code",
   "execution_count": null,
   "id": "a306b45d",
   "metadata": {},
   "outputs": [],
   "source": [
    "pip install dtale"
   ]
  },
  {
   "cell_type": "code",
   "execution_count": null,
   "id": "dfd79bab",
   "metadata": {},
   "outputs": [],
   "source": [
    "import pandas as pd\n",
    "df = pd.read_csv('../data/train.csv')\n",
    "df.head()"
   ]
  },
  {
   "cell_type": "code",
   "execution_count": null,
   "id": "25f13a4f",
   "metadata": {},
   "outputs": [],
   "source": [
    "import dtale\n",
    "dtale.show(df)"
   ]
  },
  {
   "cell_type": "code",
   "execution_count": null,
   "id": "68f22ac8",
   "metadata": {},
   "outputs": [],
   "source": [
    "pip install ydata-profiling"
   ]
  },
  {
   "cell_type": "code",
   "execution_count": null,
   "id": "bb7308f3",
   "metadata": {},
   "outputs": [],
   "source": [
    "from ydata_profiling import ProfileReport\n",
    "profile = ProfileReport(df, explorative = True)\n",
    "profile.to_file('../data/aeda_output.html')"
   ]
  },
  {
   "cell_type": "code",
   "execution_count": null,
   "id": "c3017632",
   "metadata": {},
   "outputs": [],
   "source": [
    "%pip install sweetviz"
   ]
  },
  {
   "cell_type": "code",
   "execution_count": null,
   "id": "6a3ba8a6",
   "metadata": {},
   "outputs": [],
   "source": [
    "import sweetviz as sv\n",
    "report = sv.analyze(df)\n",
    "report.show_html('../data/sv_output.html')"
   ]
  },
  {
   "cell_type": "code",
   "execution_count": null,
   "id": "75dfac8d",
   "metadata": {},
   "outputs": [],
   "source": [
    "%pip install autoviz"
   ]
  }
 ],
 "metadata": {
  "kernelspec": {
   "display_name": "Python 3",
   "language": "python",
   "name": "python3"
  },
  "language_info": {
   "codemirror_mode": {
    "name": "ipython",
    "version": 3
   },
   "file_extension": ".py",
   "mimetype": "text/x-python",
   "name": "python",
   "nbconvert_exporter": "python",
   "pygments_lexer": "ipython3",
   "version": "3.9.6"
  }
 },
 "nbformat": 4,
 "nbformat_minor": 5
}
